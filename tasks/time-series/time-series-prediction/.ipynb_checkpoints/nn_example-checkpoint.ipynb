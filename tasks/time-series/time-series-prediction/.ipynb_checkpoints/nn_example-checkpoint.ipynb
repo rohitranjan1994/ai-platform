{
 "cells": [
  {
   "cell_type": "code",
   "execution_count": 1,
   "metadata": {},
   "outputs": [
    {
     "name": "stderr",
     "output_type": "stream",
     "text": [
      "Using TensorFlow backend.\n"
     ]
    }
   ],
   "source": [
    "import data_prep\n",
    "import numpy as np\n",
    "import pandas as pd"
   ]
  },
  {
   "cell_type": "code",
   "execution_count": 8,
   "metadata": {},
   "outputs": [
    {
     "ename": "FileNotFoundError",
     "evalue": "[Errno 2] File b'amazon_book.csv' does not exist: b'amazon_book.csv'",
     "output_type": "error",
     "traceback": [
      "\u001b[1;31m---------------------------------------------------------------------------\u001b[0m",
      "\u001b[1;31mFileNotFoundError\u001b[0m                         Traceback (most recent call last)",
      "\u001b[1;32m<ipython-input-8-1a5560172bb6>\u001b[0m in \u001b[0;36m<module>\u001b[1;34m\u001b[0m\n\u001b[0;32m      5\u001b[0m \u001b[1;33m\u001b[0m\u001b[0m\n\u001b[0;32m      6\u001b[0m \u001b[1;31m#l2_df.to_csv('order_book_random.csv')\u001b[0m\u001b[1;33m\u001b[0m\u001b[1;33m\u001b[0m\u001b[1;33m\u001b[0m\u001b[0m\n\u001b[1;32m----> 7\u001b[1;33m \u001b[0mlf_df\u001b[0m \u001b[1;33m=\u001b[0m \u001b[0mpd\u001b[0m\u001b[1;33m.\u001b[0m\u001b[0mread_csv\u001b[0m\u001b[1;33m(\u001b[0m\u001b[1;34m'amazon_book.csv'\u001b[0m\u001b[1;33m)\u001b[0m\u001b[1;33m\u001b[0m\u001b[1;33m\u001b[0m\u001b[0m\n\u001b[0m\u001b[0;32m      8\u001b[0m \u001b[1;31m# TP - trade price TQ - trade Quantity\u001b[0m\u001b[1;33m\u001b[0m\u001b[1;33m\u001b[0m\u001b[1;33m\u001b[0m\u001b[0m\n\u001b[0;32m      9\u001b[0m \u001b[1;31m# BP - bid price, BQ - bid Quantity\u001b[0m\u001b[1;33m\u001b[0m\u001b[1;33m\u001b[0m\u001b[1;33m\u001b[0m\u001b[0m\n",
      "\u001b[1;32m~\\Anaconda3\\lib\\site-packages\\pandas\\io\\parsers.py\u001b[0m in \u001b[0;36mparser_f\u001b[1;34m(filepath_or_buffer, sep, delimiter, header, names, index_col, usecols, squeeze, prefix, mangle_dupe_cols, dtype, engine, converters, true_values, false_values, skipinitialspace, skiprows, skipfooter, nrows, na_values, keep_default_na, na_filter, verbose, skip_blank_lines, parse_dates, infer_datetime_format, keep_date_col, date_parser, dayfirst, iterator, chunksize, compression, thousands, decimal, lineterminator, quotechar, quoting, doublequote, escapechar, comment, encoding, dialect, tupleize_cols, error_bad_lines, warn_bad_lines, delim_whitespace, low_memory, memory_map, float_precision)\u001b[0m\n\u001b[0;32m    700\u001b[0m                     skip_blank_lines=skip_blank_lines)\n\u001b[0;32m    701\u001b[0m \u001b[1;33m\u001b[0m\u001b[0m\n\u001b[1;32m--> 702\u001b[1;33m         \u001b[1;32mreturn\u001b[0m \u001b[0m_read\u001b[0m\u001b[1;33m(\u001b[0m\u001b[0mfilepath_or_buffer\u001b[0m\u001b[1;33m,\u001b[0m \u001b[0mkwds\u001b[0m\u001b[1;33m)\u001b[0m\u001b[1;33m\u001b[0m\u001b[1;33m\u001b[0m\u001b[0m\n\u001b[0m\u001b[0;32m    703\u001b[0m \u001b[1;33m\u001b[0m\u001b[0m\n\u001b[0;32m    704\u001b[0m     \u001b[0mparser_f\u001b[0m\u001b[1;33m.\u001b[0m\u001b[0m__name__\u001b[0m \u001b[1;33m=\u001b[0m \u001b[0mname\u001b[0m\u001b[1;33m\u001b[0m\u001b[1;33m\u001b[0m\u001b[0m\n",
      "\u001b[1;32m~\\Anaconda3\\lib\\site-packages\\pandas\\io\\parsers.py\u001b[0m in \u001b[0;36m_read\u001b[1;34m(filepath_or_buffer, kwds)\u001b[0m\n\u001b[0;32m    427\u001b[0m \u001b[1;33m\u001b[0m\u001b[0m\n\u001b[0;32m    428\u001b[0m     \u001b[1;31m# Create the parser.\u001b[0m\u001b[1;33m\u001b[0m\u001b[1;33m\u001b[0m\u001b[1;33m\u001b[0m\u001b[0m\n\u001b[1;32m--> 429\u001b[1;33m     \u001b[0mparser\u001b[0m \u001b[1;33m=\u001b[0m \u001b[0mTextFileReader\u001b[0m\u001b[1;33m(\u001b[0m\u001b[0mfilepath_or_buffer\u001b[0m\u001b[1;33m,\u001b[0m \u001b[1;33m**\u001b[0m\u001b[0mkwds\u001b[0m\u001b[1;33m)\u001b[0m\u001b[1;33m\u001b[0m\u001b[1;33m\u001b[0m\u001b[0m\n\u001b[0m\u001b[0;32m    430\u001b[0m \u001b[1;33m\u001b[0m\u001b[0m\n\u001b[0;32m    431\u001b[0m     \u001b[1;32mif\u001b[0m \u001b[0mchunksize\u001b[0m \u001b[1;32mor\u001b[0m \u001b[0miterator\u001b[0m\u001b[1;33m:\u001b[0m\u001b[1;33m\u001b[0m\u001b[1;33m\u001b[0m\u001b[0m\n",
      "\u001b[1;32m~\\Anaconda3\\lib\\site-packages\\pandas\\io\\parsers.py\u001b[0m in \u001b[0;36m__init__\u001b[1;34m(self, f, engine, **kwds)\u001b[0m\n\u001b[0;32m    893\u001b[0m             \u001b[0mself\u001b[0m\u001b[1;33m.\u001b[0m\u001b[0moptions\u001b[0m\u001b[1;33m[\u001b[0m\u001b[1;34m'has_index_names'\u001b[0m\u001b[1;33m]\u001b[0m \u001b[1;33m=\u001b[0m \u001b[0mkwds\u001b[0m\u001b[1;33m[\u001b[0m\u001b[1;34m'has_index_names'\u001b[0m\u001b[1;33m]\u001b[0m\u001b[1;33m\u001b[0m\u001b[1;33m\u001b[0m\u001b[0m\n\u001b[0;32m    894\u001b[0m \u001b[1;33m\u001b[0m\u001b[0m\n\u001b[1;32m--> 895\u001b[1;33m         \u001b[0mself\u001b[0m\u001b[1;33m.\u001b[0m\u001b[0m_make_engine\u001b[0m\u001b[1;33m(\u001b[0m\u001b[0mself\u001b[0m\u001b[1;33m.\u001b[0m\u001b[0mengine\u001b[0m\u001b[1;33m)\u001b[0m\u001b[1;33m\u001b[0m\u001b[1;33m\u001b[0m\u001b[0m\n\u001b[0m\u001b[0;32m    896\u001b[0m \u001b[1;33m\u001b[0m\u001b[0m\n\u001b[0;32m    897\u001b[0m     \u001b[1;32mdef\u001b[0m \u001b[0mclose\u001b[0m\u001b[1;33m(\u001b[0m\u001b[0mself\u001b[0m\u001b[1;33m)\u001b[0m\u001b[1;33m:\u001b[0m\u001b[1;33m\u001b[0m\u001b[1;33m\u001b[0m\u001b[0m\n",
      "\u001b[1;32m~\\Anaconda3\\lib\\site-packages\\pandas\\io\\parsers.py\u001b[0m in \u001b[0;36m_make_engine\u001b[1;34m(self, engine)\u001b[0m\n\u001b[0;32m   1120\u001b[0m     \u001b[1;32mdef\u001b[0m \u001b[0m_make_engine\u001b[0m\u001b[1;33m(\u001b[0m\u001b[0mself\u001b[0m\u001b[1;33m,\u001b[0m \u001b[0mengine\u001b[0m\u001b[1;33m=\u001b[0m\u001b[1;34m'c'\u001b[0m\u001b[1;33m)\u001b[0m\u001b[1;33m:\u001b[0m\u001b[1;33m\u001b[0m\u001b[1;33m\u001b[0m\u001b[0m\n\u001b[0;32m   1121\u001b[0m         \u001b[1;32mif\u001b[0m \u001b[0mengine\u001b[0m \u001b[1;33m==\u001b[0m \u001b[1;34m'c'\u001b[0m\u001b[1;33m:\u001b[0m\u001b[1;33m\u001b[0m\u001b[1;33m\u001b[0m\u001b[0m\n\u001b[1;32m-> 1122\u001b[1;33m             \u001b[0mself\u001b[0m\u001b[1;33m.\u001b[0m\u001b[0m_engine\u001b[0m \u001b[1;33m=\u001b[0m \u001b[0mCParserWrapper\u001b[0m\u001b[1;33m(\u001b[0m\u001b[0mself\u001b[0m\u001b[1;33m.\u001b[0m\u001b[0mf\u001b[0m\u001b[1;33m,\u001b[0m \u001b[1;33m**\u001b[0m\u001b[0mself\u001b[0m\u001b[1;33m.\u001b[0m\u001b[0moptions\u001b[0m\u001b[1;33m)\u001b[0m\u001b[1;33m\u001b[0m\u001b[1;33m\u001b[0m\u001b[0m\n\u001b[0m\u001b[0;32m   1123\u001b[0m         \u001b[1;32melse\u001b[0m\u001b[1;33m:\u001b[0m\u001b[1;33m\u001b[0m\u001b[1;33m\u001b[0m\u001b[0m\n\u001b[0;32m   1124\u001b[0m             \u001b[1;32mif\u001b[0m \u001b[0mengine\u001b[0m \u001b[1;33m==\u001b[0m \u001b[1;34m'python'\u001b[0m\u001b[1;33m:\u001b[0m\u001b[1;33m\u001b[0m\u001b[1;33m\u001b[0m\u001b[0m\n",
      "\u001b[1;32m~\\Anaconda3\\lib\\site-packages\\pandas\\io\\parsers.py\u001b[0m in \u001b[0;36m__init__\u001b[1;34m(self, src, **kwds)\u001b[0m\n\u001b[0;32m   1851\u001b[0m         \u001b[0mkwds\u001b[0m\u001b[1;33m[\u001b[0m\u001b[1;34m'usecols'\u001b[0m\u001b[1;33m]\u001b[0m \u001b[1;33m=\u001b[0m \u001b[0mself\u001b[0m\u001b[1;33m.\u001b[0m\u001b[0musecols\u001b[0m\u001b[1;33m\u001b[0m\u001b[1;33m\u001b[0m\u001b[0m\n\u001b[0;32m   1852\u001b[0m \u001b[1;33m\u001b[0m\u001b[0m\n\u001b[1;32m-> 1853\u001b[1;33m         \u001b[0mself\u001b[0m\u001b[1;33m.\u001b[0m\u001b[0m_reader\u001b[0m \u001b[1;33m=\u001b[0m \u001b[0mparsers\u001b[0m\u001b[1;33m.\u001b[0m\u001b[0mTextReader\u001b[0m\u001b[1;33m(\u001b[0m\u001b[0msrc\u001b[0m\u001b[1;33m,\u001b[0m \u001b[1;33m**\u001b[0m\u001b[0mkwds\u001b[0m\u001b[1;33m)\u001b[0m\u001b[1;33m\u001b[0m\u001b[1;33m\u001b[0m\u001b[0m\n\u001b[0m\u001b[0;32m   1854\u001b[0m         \u001b[0mself\u001b[0m\u001b[1;33m.\u001b[0m\u001b[0munnamed_cols\u001b[0m \u001b[1;33m=\u001b[0m \u001b[0mself\u001b[0m\u001b[1;33m.\u001b[0m\u001b[0m_reader\u001b[0m\u001b[1;33m.\u001b[0m\u001b[0munnamed_cols\u001b[0m\u001b[1;33m\u001b[0m\u001b[1;33m\u001b[0m\u001b[0m\n\u001b[0;32m   1855\u001b[0m \u001b[1;33m\u001b[0m\u001b[0m\n",
      "\u001b[1;32mpandas/_libs/parsers.pyx\u001b[0m in \u001b[0;36mpandas._libs.parsers.TextReader.__cinit__\u001b[1;34m()\u001b[0m\n",
      "\u001b[1;32mpandas/_libs/parsers.pyx\u001b[0m in \u001b[0;36mpandas._libs.parsers.TextReader._setup_parser_source\u001b[1;34m()\u001b[0m\n",
      "\u001b[1;31mFileNotFoundError\u001b[0m: [Errno 2] File b'amazon_book.csv' does not exist: b'amazon_book.csv'"
     ]
    }
   ],
   "source": [
    "FILENAME = 'amazon_book.csv'#\"amazon_book.csv\"\n",
    "PATH = \"./data/\"\n",
    "#l2_df = pd.read_pickle(PATH+FILENAME)\n",
    "#l2_df[:2]\n",
    "\n",
    "#l2_df.to_csv('order_book_random.csv')\n",
    "lf_df = pd.read_csv('amazon_book.csv')\n",
    "# TP - trade price TQ - trade Quantity\n",
    "# BP - bid price, BQ - bid Quantity\n",
    "# AP - ask price, AQ - ask Quantity"
   ]
  },
  {
   "cell_type": "markdown",
   "metadata": {},
   "source": [
    "<img src=\"./features.png\" width=\"80%\">"
   ]
  },
  {
   "cell_type": "code",
   "execution_count": 3,
   "metadata": {},
   "outputs": [
    {
     "data": {
      "text/plain": [
       "1996"
      ]
     },
     "execution_count": 3,
     "metadata": {},
     "output_type": "execute_result"
    }
   ],
   "source": [
    "len(lf_df)"
   ]
  },
  {
   "cell_type": "code",
   "execution_count": 4,
   "metadata": {},
   "outputs": [
    {
     "data": {
      "text/html": [
       "<div>\n",
       "<style scoped>\n",
       "    .dataframe tbody tr th:only-of-type {\n",
       "        vertical-align: middle;\n",
       "    }\n",
       "\n",
       "    .dataframe tbody tr th {\n",
       "        vertical-align: top;\n",
       "    }\n",
       "\n",
       "    .dataframe thead th {\n",
       "        text-align: right;\n",
       "    }\n",
       "</style>\n",
       "<table border=\"1\" class=\"dataframe\">\n",
       "  <thead>\n",
       "    <tr style=\"text-align: right;\">\n",
       "      <th></th>\n",
       "      <th>Unnamed: 0</th>\n",
       "      <th>BP1</th>\n",
       "      <th>BQ1</th>\n",
       "      <th>AP1</th>\n",
       "      <th>AQ1</th>\n",
       "      <th>BP2</th>\n",
       "      <th>BQ2</th>\n",
       "      <th>AP2</th>\n",
       "      <th>AQ2</th>\n",
       "      <th>BP3</th>\n",
       "      <th>...</th>\n",
       "      <th>BQ19</th>\n",
       "      <th>AP19</th>\n",
       "      <th>AQ19</th>\n",
       "      <th>BP20</th>\n",
       "      <th>BQ20</th>\n",
       "      <th>AP20</th>\n",
       "      <th>AQ20</th>\n",
       "      <th>timestamp</th>\n",
       "      <th>TP</th>\n",
       "      <th>TQ</th>\n",
       "    </tr>\n",
       "  </thead>\n",
       "  <tbody>\n",
       "    <tr>\n",
       "      <th>0</th>\n",
       "      <td>0</td>\n",
       "      <td>3648.0</td>\n",
       "      <td>0.180000</td>\n",
       "      <td>3650.0</td>\n",
       "      <td>0.061963</td>\n",
       "      <td>3647.1</td>\n",
       "      <td>2.000000</td>\n",
       "      <td>3650.1</td>\n",
       "      <td>1.207276</td>\n",
       "      <td>3647.0</td>\n",
       "      <td>...</td>\n",
       "      <td>7.300000</td>\n",
       "      <td>3656.1</td>\n",
       "      <td>7.0120</td>\n",
       "      <td>3641.9</td>\n",
       "      <td>0.800</td>\n",
       "      <td>3656.3</td>\n",
       "      <td>0.063805</td>\n",
       "      <td>2019-02-11 00:02:10.959967449+00:00</td>\n",
       "      <td>3062350.0</td>\n",
       "      <td>449</td>\n",
       "    </tr>\n",
       "    <tr>\n",
       "      <th>1</th>\n",
       "      <td>1</td>\n",
       "      <td>3602.1</td>\n",
       "      <td>9.887303</td>\n",
       "      <td>3604.7</td>\n",
       "      <td>11.104000</td>\n",
       "      <td>3600.7</td>\n",
       "      <td>3.776245</td>\n",
       "      <td>3607.1</td>\n",
       "      <td>2.347523</td>\n",
       "      <td>3600.2</td>\n",
       "      <td>...</td>\n",
       "      <td>0.280000</td>\n",
       "      <td>3626.6</td>\n",
       "      <td>54.9999</td>\n",
       "      <td>3588.4</td>\n",
       "      <td>5.000</td>\n",
       "      <td>3632.8</td>\n",
       "      <td>1.200000</td>\n",
       "      <td>2019-02-11 00:06:38.506565626+00:00</td>\n",
       "      <td>3063500.0</td>\n",
       "      <td>89</td>\n",
       "    </tr>\n",
       "    <tr>\n",
       "      <th>2</th>\n",
       "      <td>2</td>\n",
       "      <td>3606.8</td>\n",
       "      <td>0.456000</td>\n",
       "      <td>3608.5</td>\n",
       "      <td>0.204868</td>\n",
       "      <td>3604.9</td>\n",
       "      <td>2.000000</td>\n",
       "      <td>3608.6</td>\n",
       "      <td>0.131915</td>\n",
       "      <td>3603.6</td>\n",
       "      <td>...</td>\n",
       "      <td>8.622441</td>\n",
       "      <td>3616.4</td>\n",
       "      <td>4.7800</td>\n",
       "      <td>3593.1</td>\n",
       "      <td>0.350</td>\n",
       "      <td>3616.5</td>\n",
       "      <td>9.900000</td>\n",
       "      <td>2019-02-11 00:11:32.590900659+00:00</td>\n",
       "      <td>3065000.0</td>\n",
       "      <td>89</td>\n",
       "    </tr>\n",
       "    <tr>\n",
       "      <th>3</th>\n",
       "      <td>3</td>\n",
       "      <td>3607.1</td>\n",
       "      <td>1.051430</td>\n",
       "      <td>3607.2</td>\n",
       "      <td>0.003602</td>\n",
       "      <td>3606.9</td>\n",
       "      <td>13.200000</td>\n",
       "      <td>3607.3</td>\n",
       "      <td>3.892000</td>\n",
       "      <td>3606.7</td>\n",
       "      <td>...</td>\n",
       "      <td>5.382454</td>\n",
       "      <td>3617.0</td>\n",
       "      <td>0.8000</td>\n",
       "      <td>3595.2</td>\n",
       "      <td>1.973</td>\n",
       "      <td>3617.2</td>\n",
       "      <td>4.300000</td>\n",
       "      <td>2019-02-11 00:16:09.669367901+00:00</td>\n",
       "      <td>3065000.0</td>\n",
       "      <td>119</td>\n",
       "    </tr>\n",
       "    <tr>\n",
       "      <th>4</th>\n",
       "      <td>4</td>\n",
       "      <td>3608.8</td>\n",
       "      <td>13.844658</td>\n",
       "      <td>3608.9</td>\n",
       "      <td>1.072083</td>\n",
       "      <td>3608.6</td>\n",
       "      <td>1.000000</td>\n",
       "      <td>3610.6</td>\n",
       "      <td>1.000000</td>\n",
       "      <td>3608.1</td>\n",
       "      <td>...</td>\n",
       "      <td>7.370000</td>\n",
       "      <td>3617.3</td>\n",
       "      <td>8.1000</td>\n",
       "      <td>3603.5</td>\n",
       "      <td>10.790</td>\n",
       "      <td>3617.7</td>\n",
       "      <td>0.400309</td>\n",
       "      <td>2019-02-11 00:20:15.763245587+00:00</td>\n",
       "      <td>3064600.0</td>\n",
       "      <td>120</td>\n",
       "    </tr>\n",
       "  </tbody>\n",
       "</table>\n",
       "<p>5 rows × 84 columns</p>\n",
       "</div>"
      ],
      "text/plain": [
       "   Unnamed: 0     BP1        BQ1     AP1        AQ1     BP2        BQ2  \\\n",
       "0           0  3648.0   0.180000  3650.0   0.061963  3647.1   2.000000   \n",
       "1           1  3602.1   9.887303  3604.7  11.104000  3600.7   3.776245   \n",
       "2           2  3606.8   0.456000  3608.5   0.204868  3604.9   2.000000   \n",
       "3           3  3607.1   1.051430  3607.2   0.003602  3606.9  13.200000   \n",
       "4           4  3608.8  13.844658  3608.9   1.072083  3608.6   1.000000   \n",
       "\n",
       "      AP2       AQ2     BP3  ...      BQ19    AP19     AQ19    BP20    BQ20  \\\n",
       "0  3650.1  1.207276  3647.0  ...  7.300000  3656.1   7.0120  3641.9   0.800   \n",
       "1  3607.1  2.347523  3600.2  ...  0.280000  3626.6  54.9999  3588.4   5.000   \n",
       "2  3608.6  0.131915  3603.6  ...  8.622441  3616.4   4.7800  3593.1   0.350   \n",
       "3  3607.3  3.892000  3606.7  ...  5.382454  3617.0   0.8000  3595.2   1.973   \n",
       "4  3610.6  1.000000  3608.1  ...  7.370000  3617.3   8.1000  3603.5  10.790   \n",
       "\n",
       "     AP20      AQ20                            timestamp         TP   TQ  \n",
       "0  3656.3  0.063805  2019-02-11 00:02:10.959967449+00:00  3062350.0  449  \n",
       "1  3632.8  1.200000  2019-02-11 00:06:38.506565626+00:00  3063500.0   89  \n",
       "2  3616.5  9.900000  2019-02-11 00:11:32.590900659+00:00  3065000.0   89  \n",
       "3  3617.2  4.300000  2019-02-11 00:16:09.669367901+00:00  3065000.0  119  \n",
       "4  3617.7  0.400309  2019-02-11 00:20:15.763245587+00:00  3064600.0  120  \n",
       "\n",
       "[5 rows x 84 columns]"
      ]
     },
     "execution_count": 4,
     "metadata": {},
     "output_type": "execute_result"
    }
   ],
   "source": [
    "lf_df.head()"
   ]
  },
  {
   "cell_type": "code",
   "execution_count": 5,
   "metadata": {},
   "outputs": [
    {
     "name": "stdout",
     "output_type": "stream",
     "text": [
      "1981\n",
      "1981\n",
      "1652.0 records with = (same)\n",
      "131.0 records with < (plus profit) \n",
      "198.0 records with > (loss)\n",
      "x shape: (1981, 10, 40)\n",
      "y shape: (1981, 3)\n"
     ]
    }
   ],
   "source": [
    "# make features from dataset\n",
    "# input shape (batch_size, window_size, n_features)\n",
    "# ouput shape (batch_size, n_classes)\n",
    "\n",
    "# if trade price[current+5] = trade price[current] ... 0\n",
    "#    trade price[current+5] < trade price[current] ... 1\n",
    "#    trade price[current+5] > trade price[current] ... 2\n",
    "data = data_prep.get_test_data(window_size=10, predict_step=5, filename=FILENAME)"
   ]
  },
  {
   "cell_type": "code",
   "execution_count": 8,
   "metadata": {},
   "outputs": [
    {
     "name": "stdout",
     "output_type": "stream",
     "text": [
      "(10, 40)\n"
     ]
    }
   ],
   "source": [
    "print(data.x.shape[1:])"
   ]
  },
  {
   "cell_type": "code",
   "execution_count": 7,
   "metadata": {},
   "outputs": [
    {
     "name": "stdout",
     "output_type": "stream",
     "text": [
      "Build model...\n",
      "Compile model.   ..\n",
      "TRAIN\n",
      "Train...\n",
      "before fit\n",
      "WARNING:tensorflow:From C:\\Users\\rohit\\Anaconda3\\lib\\site-packages\\tensorflow\\python\\ops\\math_grad.py:1250: add_dispatch_support.<locals>.wrapper (from tensorflow.python.ops.array_ops) is deprecated and will be removed in a future version.\n",
      "Instructions for updating:\n",
      "Use tf.where in 2.0, which has the same broadcast rule as np.where\n",
      "Train on 1485 samples, validate on 496 samples\n",
      "Epoch 1/2\n",
      "1485/1485 [==============================] - 2s 1ms/step - loss: 0.9955 - acc: 0.5185 - val_loss: 0.7261 - val_acc: 0.7823\n",
      "\n",
      "Epoch 00001: val_acc improved from -inf to 0.78226, saving model to ./model/improvement-01-0.78.hdf5\n",
      "Epoch 2/2\n",
      "1485/1485 [==============================] - 0s 109us/step - loss: 0.5644 - acc: 0.8512 - val_loss: 0.7436 - val_acc: 0.7823\n",
      "\n",
      "Epoch 00002: val_acc did not improve from 0.78226\n",
      "EACH : class 0: 1.0, class 1: 0.0, class 2: 0.0\n",
      "PREDICTED: class 0: 1652, class 1: 0, class 2: 0\n",
      "ACTUAL: class 0: 1652, class 1: 131, class 2: 198\n",
      "ERROR RATE:  0.16607773851590105\n",
      "TEST\n",
      "EACH : class 0: 1.0, class 1: 0.0, class 2: 0.0\n",
      "PREDICTED: class 0: 1652, class 1: 0, class 2: 0\n",
      "ACTUAL: class 0: 1652, class 1: 131, class 2: 198\n",
      "ERROR RATE:  0.16607773851590105\n"
     ]
    },
    {
     "data": {
      "text/plain": [
       "0.16607773851590105"
      ]
     },
     "execution_count": 7,
     "metadata": {},
     "output_type": "execute_result"
    }
   ],
   "source": [
    "from nn import NeuralNetwork\n",
    "from rnn import RNN\n",
    "\n",
    "n_cross_validation = 3\n",
    "\n",
    "# input_shape <- (timestep, n_features)\n",
    "# output_shape <- n_classes\n",
    "nn = NeuralNetwork(RNN(input_shape=data.x.shape[1:], output_dim=data.y.shape[1]), class_weight= {0:1., 1:1., 2:1.})\n",
    "\n",
    "print(\"TRAIN\")\n",
    "nn.train(data)\n",
    "\n",
    "print(\"TEST\")\n",
    "nn.test(data)\n",
    "\n",
    "#print(\"TRAIN WITH CROSS-VALIDATION\")\n",
    "#nn.run_with_cross_validation(data, n_cross_validation)"
   ]
  },
  {
   "cell_type": "code",
   "execution_count": null,
   "metadata": {},
   "outputs": [],
   "source": []
  }
 ],
 "metadata": {
  "kernelspec": {
   "display_name": "Python 3",
   "language": "python",
   "name": "python3"
  },
  "language_info": {
   "codemirror_mode": {
    "name": "ipython",
    "version": 3
   },
   "file_extension": ".py",
   "mimetype": "text/x-python",
   "name": "python",
   "nbconvert_exporter": "python",
   "pygments_lexer": "ipython3",
   "version": "3.7.3"
  }
 },
 "nbformat": 4,
 "nbformat_minor": 1
}

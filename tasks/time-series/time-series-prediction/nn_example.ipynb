{
 "cells": [
  {
   "cell_type": "code",
   "execution_count": 1,
   "metadata": {},
   "outputs": [
    {
     "name": "stderr",
     "output_type": "stream",
     "text": [
      "Using TensorFlow backend.\n"
     ]
    }
   ],
   "source": [
    "import data_prep\n",
    "import numpy as np\n",
    "import pandas as pd"
   ]
  },
  {
   "cell_type": "code",
   "execution_count": 2,
   "metadata": {},
   "outputs": [],
   "source": [
    "FILENAME = './data/order_book_sample.csv'#\"amazon_book.csv\"\n",
    "#PATH = \"./data/\"\n",
    "#l2_df = pd.read_pickle(PATH+FILENAME)\n",
    "#l2_df[:2]\n",
    "\n",
    "#l2_df.to_csv('order_book_random.csv')\n",
    "lf_df = pd.read_csv('./data/order_book_sample.csv')\n",
    "# TP - trade price TQ - trade Quantity\n",
    "# BP - bid price, BQ - bid Quantity\n",
    "# AP - ask price, AQ - ask Quantity"
   ]
  },
  {
   "cell_type": "markdown",
   "metadata": {},
   "source": [
    "<img src=\"./features.png\" width=\"80%\">"
   ]
  },
  {
   "cell_type": "code",
   "execution_count": 4,
   "metadata": {},
   "outputs": [
    {
     "data": {
      "text/plain": [
       "7201"
      ]
     },
     "execution_count": 4,
     "metadata": {},
     "output_type": "execute_result"
    }
   ],
   "source": [
    "len(lf_df)"
   ]
  },
  {
   "cell_type": "code",
   "execution_count": 3,
   "metadata": {},
   "outputs": [
    {
     "data": {
      "text/html": [
       "<div>\n",
       "<style scoped>\n",
       "    .dataframe tbody tr th:only-of-type {\n",
       "        vertical-align: middle;\n",
       "    }\n",
       "\n",
       "    .dataframe tbody tr th {\n",
       "        vertical-align: top;\n",
       "    }\n",
       "\n",
       "    .dataframe thead th {\n",
       "        text-align: right;\n",
       "    }\n",
       "</style>\n",
       "<table border=\"1\" class=\"dataframe\">\n",
       "  <thead>\n",
       "    <tr style=\"text-align: right;\">\n",
       "      <th></th>\n",
       "      <th>Unnamed: 0</th>\n",
       "      <th>Time</th>\n",
       "      <th>TP</th>\n",
       "      <th>TQ</th>\n",
       "      <th>BP1</th>\n",
       "      <th>BP2</th>\n",
       "      <th>BP3</th>\n",
       "      <th>BP4</th>\n",
       "      <th>BP5</th>\n",
       "      <th>BP6</th>\n",
       "      <th>...</th>\n",
       "      <th>BQ5</th>\n",
       "      <th>BQ6</th>\n",
       "      <th>BQ7</th>\n",
       "      <th>AQ1</th>\n",
       "      <th>AQ2</th>\n",
       "      <th>AQ3</th>\n",
       "      <th>AQ4</th>\n",
       "      <th>AQ5</th>\n",
       "      <th>AQ6</th>\n",
       "      <th>AQ7</th>\n",
       "    </tr>\n",
       "  </thead>\n",
       "  <tbody>\n",
       "    <tr>\n",
       "      <th>7196</th>\n",
       "      <td>7196</td>\n",
       "      <td>1518973045</td>\n",
       "      <td>426</td>\n",
       "      <td>2151.502</td>\n",
       "      <td>425</td>\n",
       "      <td>424</td>\n",
       "      <td>423</td>\n",
       "      <td>422</td>\n",
       "      <td>421</td>\n",
       "      <td>420</td>\n",
       "      <td>...</td>\n",
       "      <td>600121.811</td>\n",
       "      <td>1172369.264</td>\n",
       "      <td>648096.631</td>\n",
       "      <td>104614.065</td>\n",
       "      <td>208020.005</td>\n",
       "      <td>167646.09</td>\n",
       "      <td>213471.531</td>\n",
       "      <td>441397.811</td>\n",
       "      <td>298877.808</td>\n",
       "      <td>392856.804</td>\n",
       "    </tr>\n",
       "    <tr>\n",
       "      <th>7197</th>\n",
       "      <td>7197</td>\n",
       "      <td>1518973047</td>\n",
       "      <td>426</td>\n",
       "      <td>2151.502</td>\n",
       "      <td>425</td>\n",
       "      <td>424</td>\n",
       "      <td>423</td>\n",
       "      <td>422</td>\n",
       "      <td>421</td>\n",
       "      <td>420</td>\n",
       "      <td>...</td>\n",
       "      <td>600121.811</td>\n",
       "      <td>1172369.264</td>\n",
       "      <td>648096.631</td>\n",
       "      <td>114763.585</td>\n",
       "      <td>208020.005</td>\n",
       "      <td>164929.43</td>\n",
       "      <td>213471.531</td>\n",
       "      <td>441397.811</td>\n",
       "      <td>298877.808</td>\n",
       "      <td>392856.804</td>\n",
       "    </tr>\n",
       "    <tr>\n",
       "      <th>7198</th>\n",
       "      <td>7198</td>\n",
       "      <td>1518973048</td>\n",
       "      <td>426</td>\n",
       "      <td>2151.502</td>\n",
       "      <td>425</td>\n",
       "      <td>424</td>\n",
       "      <td>423</td>\n",
       "      <td>422</td>\n",
       "      <td>421</td>\n",
       "      <td>420</td>\n",
       "      <td>...</td>\n",
       "      <td>600121.811</td>\n",
       "      <td>1172369.264</td>\n",
       "      <td>648096.631</td>\n",
       "      <td>124119.725</td>\n",
       "      <td>208020.005</td>\n",
       "      <td>164929.43</td>\n",
       "      <td>213471.531</td>\n",
       "      <td>441397.811</td>\n",
       "      <td>298877.808</td>\n",
       "      <td>392856.804</td>\n",
       "    </tr>\n",
       "    <tr>\n",
       "      <th>7199</th>\n",
       "      <td>7199</td>\n",
       "      <td>1518973049</td>\n",
       "      <td>426</td>\n",
       "      <td>2151.502</td>\n",
       "      <td>425</td>\n",
       "      <td>424</td>\n",
       "      <td>423</td>\n",
       "      <td>422</td>\n",
       "      <td>421</td>\n",
       "      <td>420</td>\n",
       "      <td>...</td>\n",
       "      <td>600121.811</td>\n",
       "      <td>1166883.911</td>\n",
       "      <td>648096.631</td>\n",
       "      <td>124119.725</td>\n",
       "      <td>208020.005</td>\n",
       "      <td>164929.43</td>\n",
       "      <td>213471.531</td>\n",
       "      <td>441397.811</td>\n",
       "      <td>298877.808</td>\n",
       "      <td>392856.804</td>\n",
       "    </tr>\n",
       "    <tr>\n",
       "      <th>7200</th>\n",
       "      <td>7200</td>\n",
       "      <td>1518973051</td>\n",
       "      <td>426</td>\n",
       "      <td>1922.916</td>\n",
       "      <td>425</td>\n",
       "      <td>424</td>\n",
       "      <td>423</td>\n",
       "      <td>422</td>\n",
       "      <td>421</td>\n",
       "      <td>420</td>\n",
       "      <td>...</td>\n",
       "      <td>600121.811</td>\n",
       "      <td>1166883.911</td>\n",
       "      <td>648096.631</td>\n",
       "      <td>125641.175</td>\n",
       "      <td>208020.005</td>\n",
       "      <td>164929.43</td>\n",
       "      <td>213471.531</td>\n",
       "      <td>441397.811</td>\n",
       "      <td>298877.808</td>\n",
       "      <td>392856.804</td>\n",
       "    </tr>\n",
       "  </tbody>\n",
       "</table>\n",
       "<p>5 rows × 32 columns</p>\n",
       "</div>"
      ],
      "text/plain": [
       "      Unnamed: 0        Time   TP        TQ  BP1  BP2  BP3  BP4  BP5  BP6  \\\n",
       "7196        7196  1518973045  426  2151.502  425  424  423  422  421  420   \n",
       "7197        7197  1518973047  426  2151.502  425  424  423  422  421  420   \n",
       "7198        7198  1518973048  426  2151.502  425  424  423  422  421  420   \n",
       "7199        7199  1518973049  426  2151.502  425  424  423  422  421  420   \n",
       "7200        7200  1518973051  426  1922.916  425  424  423  422  421  420   \n",
       "\n",
       "      ...         BQ5          BQ6         BQ7         AQ1         AQ2  \\\n",
       "7196  ...  600121.811  1172369.264  648096.631  104614.065  208020.005   \n",
       "7197  ...  600121.811  1172369.264  648096.631  114763.585  208020.005   \n",
       "7198  ...  600121.811  1172369.264  648096.631  124119.725  208020.005   \n",
       "7199  ...  600121.811  1166883.911  648096.631  124119.725  208020.005   \n",
       "7200  ...  600121.811  1166883.911  648096.631  125641.175  208020.005   \n",
       "\n",
       "            AQ3         AQ4         AQ5         AQ6         AQ7  \n",
       "7196  167646.09  213471.531  441397.811  298877.808  392856.804  \n",
       "7197  164929.43  213471.531  441397.811  298877.808  392856.804  \n",
       "7198  164929.43  213471.531  441397.811  298877.808  392856.804  \n",
       "7199  164929.43  213471.531  441397.811  298877.808  392856.804  \n",
       "7200  164929.43  213471.531  441397.811  298877.808  392856.804  \n",
       "\n",
       "[5 rows x 32 columns]"
      ]
     },
     "execution_count": 3,
     "metadata": {},
     "output_type": "execute_result"
    }
   ],
   "source": [
    "lf_df.tail()"
   ]
  },
  {
   "cell_type": "code",
   "execution_count": 4,
   "metadata": {},
   "outputs": [
    {
     "name": "stdout",
     "output_type": "stream",
     "text": [
      "7189\n",
      "7189\n",
      "6126.0 records with = (same)\n",
      "528.0 records with < (plus profit) \n",
      "535.0 records with > (loss)\n",
      "x shape: (7189, 10, 40)\n",
      "y shape: (7189, 3)\n"
     ]
    }
   ],
   "source": [
    "# make features from dataset\n",
    "# input shape (batch_size, window_size, n_features)\n",
    "# ouput shape (batch_size, n_classes)\n",
    "\n",
    "# if trade price[current+5] = trade price[current] ... 0\n",
    "#    trade price[current+5] < trade price[current] ... 1\n",
    "#    trade price[current+5] > trade price[current] ... 2\n",
    "data = data_prep.get_test_data(window_size=10, predict_step=2, filename=FILENAME)"
   ]
  },
  {
   "cell_type": "code",
   "execution_count": 8,
   "metadata": {},
   "outputs": [
    {
     "name": "stdout",
     "output_type": "stream",
     "text": [
      "(10, 40)\n"
     ]
    }
   ],
   "source": [
    "print(data.x.shape[1:])"
   ]
  },
  {
   "cell_type": "code",
   "execution_count": 5,
   "metadata": {},
   "outputs": [
    {
     "name": "stdout",
     "output_type": "stream",
     "text": [
      "Build model...\n",
      "WARNING:tensorflow:From C:\\Users\\rohit\\Anaconda3\\lib\\site-packages\\keras\\backend\\tensorflow_backend.py:66: The name tf.get_default_graph is deprecated. Please use tf.compat.v1.get_default_graph instead.\n",
      "\n",
      "WARNING:tensorflow:From C:\\Users\\rohit\\Anaconda3\\lib\\site-packages\\keras\\backend\\tensorflow_backend.py:541: The name tf.placeholder is deprecated. Please use tf.compat.v1.placeholder instead.\n",
      "\n",
      "WARNING:tensorflow:From C:\\Users\\rohit\\Anaconda3\\lib\\site-packages\\keras\\backend\\tensorflow_backend.py:4432: The name tf.random_uniform is deprecated. Please use tf.random.uniform instead.\n",
      "\n",
      "WARNING:tensorflow:From C:\\Users\\rohit\\Anaconda3\\lib\\site-packages\\keras\\backend\\tensorflow_backend.py:148: The name tf.placeholder_with_default is deprecated. Please use tf.compat.v1.placeholder_with_default instead.\n",
      "\n",
      "WARNING:tensorflow:From C:\\Users\\rohit\\Anaconda3\\lib\\site-packages\\keras\\backend\\tensorflow_backend.py:3733: calling dropout (from tensorflow.python.ops.nn_ops) with keep_prob is deprecated and will be removed in a future version.\n",
      "Instructions for updating:\n",
      "Please use `rate` instead of `keep_prob`. Rate should be set to `rate = 1 - keep_prob`.\n",
      "Compile model.   ..\n",
      "WARNING:tensorflow:From C:\\Users\\rohit\\Anaconda3\\lib\\site-packages\\keras\\optimizers.py:793: The name tf.train.Optimizer is deprecated. Please use tf.compat.v1.train.Optimizer instead.\n",
      "\n",
      "WARNING:tensorflow:From C:\\Users\\rohit\\Anaconda3\\lib\\site-packages\\keras\\backend\\tensorflow_backend.py:3576: The name tf.log is deprecated. Please use tf.math.log instead.\n",
      "\n",
      "TRAIN\n",
      "Train...\n",
      "before fit\n",
      "WARNING:tensorflow:From C:\\Users\\rohit\\Anaconda3\\lib\\site-packages\\tensorflow\\python\\ops\\math_grad.py:1250: add_dispatch_support.<locals>.wrapper (from tensorflow.python.ops.array_ops) is deprecated and will be removed in a future version.\n",
      "Instructions for updating:\n",
      "Use tf.where in 2.0, which has the same broadcast rule as np.where\n",
      "Train on 5391 samples, validate on 1798 samples\n",
      "Epoch 1/2\n",
      "5391/5391 [==============================] - 2s 441us/step - loss: 1.9185 - acc: 0.8030 - val_loss: 1.6879 - val_acc: 0.8821\n",
      "\n",
      "Epoch 00001: val_acc improved from -inf to 0.88209, saving model to ./model/improvement-01-0.88.hdf5\n",
      "Epoch 2/2\n",
      "5391/5391 [==============================] - 1s 118us/step - loss: 1.7810 - acc: 0.8421 - val_loss: 1.6482 - val_acc: 0.8821\n",
      "\n",
      "Epoch 00002: val_acc did not improve from 0.88209\n",
      "EACH : class 0: 1.0, class 1: 0.0, class 2: 0.0\n",
      "PREDICTED: class 0: 6126, class 1: 0, class 2: 0\n",
      "ACTUAL: class 0: 6126, class 1: 528, class 2: 535\n",
      "ERROR RATE:  0.1478647934344137\n",
      "TEST\n",
      "EACH : class 0: 1.0, class 1: 0.0, class 2: 0.0\n",
      "PREDICTED: class 0: 6126, class 1: 0, class 2: 0\n",
      "ACTUAL: class 0: 6126, class 1: 528, class 2: 535\n",
      "ERROR RATE:  0.1478647934344137\n"
     ]
    },
    {
     "data": {
      "text/plain": [
       "0.1478647934344137"
      ]
     },
     "execution_count": 5,
     "metadata": {},
     "output_type": "execute_result"
    }
   ],
   "source": [
    "from nn import NeuralNetwork\n",
    "from rnn import RNN\n",
    "\n",
    "n_cross_validation = 3\n",
    "\n",
    "# input_shape <- (timestep, n_features)\n",
    "# output_shape <- n_classes\n",
    "nn = NeuralNetwork(RNN(input_shape=data.x.shape[1:], output_dim=data.y.shape[1]), class_weight= {0:1., 1:1., 2:1.})\n",
    "\n",
    "print(\"TRAIN\")\n",
    "nn.train(data)\n",
    "\n",
    "print(\"TEST\")\n",
    "nn.test(data)\n",
    "\n",
    "#print(\"TRAIN WITH CROSS-VALIDATION\")\n",
    "#nn.run_with_cross_validation(data, n_cross_validation)"
   ]
  },
  {
   "cell_type": "code",
   "execution_count": null,
   "metadata": {},
   "outputs": [],
   "source": []
  }
 ],
 "metadata": {
  "kernelspec": {
   "display_name": "Python 3",
   "language": "python",
   "name": "python3"
  },
  "language_info": {
   "codemirror_mode": {
    "name": "ipython",
    "version": 3
   },
   "file_extension": ".py",
   "mimetype": "text/x-python",
   "name": "python",
   "nbconvert_exporter": "python",
   "pygments_lexer": "ipython3",
   "version": "3.7.3"
  }
 },
 "nbformat": 4,
 "nbformat_minor": 1
}

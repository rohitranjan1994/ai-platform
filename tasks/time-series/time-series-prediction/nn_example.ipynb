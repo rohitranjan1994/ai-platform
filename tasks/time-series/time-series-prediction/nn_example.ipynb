{
 "cells": [
  {
   "cell_type": "code",
   "execution_count": 1,
   "metadata": {},
   "outputs": [
    {
     "name": "stderr",
     "output_type": "stream",
     "text": [
      "Using TensorFlow backend.\n"
     ]
    }
   ],
   "source": [
    "import data_prep\n",
    "import numpy as np\n",
    "import pandas as pd"
   ]
  },
  {
   "cell_type": "code",
   "execution_count": 9,
   "metadata": {},
   "outputs": [],
   "source": [
    "FILENAME = './data/amazon_book.csv'#\"amazon_book.csv\"\n",
    "#PATH = \"./data/\"\n",
    "#l2_df = pd.read_pickle(PATH+FILENAME)\n",
    "#l2_df[:2]\n",
    "\n",
    "#l2_df.to_csv('order_book_random.csv')\n",
    "lf_df = pd.read_csv('./data/amazon_book.csv')\n",
    "# TP - trade price TQ - trade Quantity\n",
    "# BP - bid price, BQ - bid Quantity\n",
    "# AP - ask price, AQ - ask Quantity"
   ]
  },
  {
   "cell_type": "markdown",
   "metadata": {},
   "source": [
    "<img src=\"./features.png\" width=\"80%\">"
   ]
  },
  {
   "cell_type": "code",
   "execution_count": 10,
   "metadata": {},
   "outputs": [
    {
     "data": {
      "text/plain": [
       "234000"
      ]
     },
     "execution_count": 10,
     "metadata": {},
     "output_type": "execute_result"
    }
   ],
   "source": [
    "len(lf_df)"
   ]
  },
  {
   "cell_type": "code",
   "execution_count": 13,
   "metadata": {},
   "outputs": [
    {
     "data": {
      "text/html": [
       "<div>\n",
       "<style scoped>\n",
       "    .dataframe tbody tr th:only-of-type {\n",
       "        vertical-align: middle;\n",
       "    }\n",
       "\n",
       "    .dataframe tbody tr th {\n",
       "        vertical-align: top;\n",
       "    }\n",
       "\n",
       "    .dataframe thead th {\n",
       "        text-align: right;\n",
       "    }\n",
       "</style>\n",
       "<table border=\"1\" class=\"dataframe\">\n",
       "  <thead>\n",
       "    <tr style=\"text-align: right;\">\n",
       "      <th></th>\n",
       "      <th>Unnamed: 0</th>\n",
       "      <th>BP1</th>\n",
       "      <th>BQ1</th>\n",
       "      <th>AP1</th>\n",
       "      <th>AQ1</th>\n",
       "      <th>BP2</th>\n",
       "      <th>BQ2</th>\n",
       "      <th>AP2</th>\n",
       "      <th>AQ2</th>\n",
       "      <th>BP3</th>\n",
       "      <th>...</th>\n",
       "      <th>BQ19</th>\n",
       "      <th>AP19</th>\n",
       "      <th>AQ19</th>\n",
       "      <th>BP20</th>\n",
       "      <th>BQ20</th>\n",
       "      <th>AP20</th>\n",
       "      <th>AQ20</th>\n",
       "      <th>timestamp</th>\n",
       "      <th>TP</th>\n",
       "      <th>TQ</th>\n",
       "    </tr>\n",
       "  </thead>\n",
       "  <tbody>\n",
       "    <tr>\n",
       "      <th>233995</th>\n",
       "      <td>233995</td>\n",
       "      <td>3057000</td>\n",
       "      <td>100</td>\n",
       "      <td>3057100</td>\n",
       "      <td>863</td>\n",
       "      <td>3056400</td>\n",
       "      <td>100</td>\n",
       "      <td>3057200</td>\n",
       "      <td>400</td>\n",
       "      <td>3056200</td>\n",
       "      <td>...</td>\n",
       "      <td>160</td>\n",
       "      <td>3060000</td>\n",
       "      <td>50</td>\n",
       "      <td>3053800</td>\n",
       "      <td>100</td>\n",
       "      <td>3060100</td>\n",
       "      <td>300</td>\n",
       "      <td>57599600</td>\n",
       "      <td>3057050.0</td>\n",
       "      <td>963</td>\n",
       "    </tr>\n",
       "    <tr>\n",
       "      <th>233996</th>\n",
       "      <td>233996</td>\n",
       "      <td>3057000</td>\n",
       "      <td>100</td>\n",
       "      <td>3057100</td>\n",
       "      <td>863</td>\n",
       "      <td>3056400</td>\n",
       "      <td>100</td>\n",
       "      <td>3057200</td>\n",
       "      <td>400</td>\n",
       "      <td>3056200</td>\n",
       "      <td>...</td>\n",
       "      <td>500</td>\n",
       "      <td>3060000</td>\n",
       "      <td>50</td>\n",
       "      <td>3054000</td>\n",
       "      <td>160</td>\n",
       "      <td>3060100</td>\n",
       "      <td>300</td>\n",
       "      <td>57599700</td>\n",
       "      <td>3057050.0</td>\n",
       "      <td>963</td>\n",
       "    </tr>\n",
       "    <tr>\n",
       "      <th>233997</th>\n",
       "      <td>233997</td>\n",
       "      <td>3057000</td>\n",
       "      <td>100</td>\n",
       "      <td>3057100</td>\n",
       "      <td>863</td>\n",
       "      <td>3056400</td>\n",
       "      <td>100</td>\n",
       "      <td>3057200</td>\n",
       "      <td>400</td>\n",
       "      <td>3056200</td>\n",
       "      <td>...</td>\n",
       "      <td>500</td>\n",
       "      <td>3060000</td>\n",
       "      <td>50</td>\n",
       "      <td>3054000</td>\n",
       "      <td>160</td>\n",
       "      <td>3060100</td>\n",
       "      <td>300</td>\n",
       "      <td>57599800</td>\n",
       "      <td>3057050.0</td>\n",
       "      <td>963</td>\n",
       "    </tr>\n",
       "    <tr>\n",
       "      <th>233998</th>\n",
       "      <td>233998</td>\n",
       "      <td>3057000</td>\n",
       "      <td>100</td>\n",
       "      <td>3057100</td>\n",
       "      <td>863</td>\n",
       "      <td>3056400</td>\n",
       "      <td>100</td>\n",
       "      <td>3057200</td>\n",
       "      <td>400</td>\n",
       "      <td>3056200</td>\n",
       "      <td>...</td>\n",
       "      <td>500</td>\n",
       "      <td>3060000</td>\n",
       "      <td>50</td>\n",
       "      <td>3054000</td>\n",
       "      <td>160</td>\n",
       "      <td>3060100</td>\n",
       "      <td>300</td>\n",
       "      <td>57599900</td>\n",
       "      <td>3057050.0</td>\n",
       "      <td>963</td>\n",
       "    </tr>\n",
       "    <tr>\n",
       "      <th>233999</th>\n",
       "      <td>233999</td>\n",
       "      <td>3057000</td>\n",
       "      <td>100</td>\n",
       "      <td>3057100</td>\n",
       "      <td>863</td>\n",
       "      <td>3056400</td>\n",
       "      <td>100</td>\n",
       "      <td>3057200</td>\n",
       "      <td>400</td>\n",
       "      <td>3056300</td>\n",
       "      <td>...</td>\n",
       "      <td>400</td>\n",
       "      <td>3060000</td>\n",
       "      <td>50</td>\n",
       "      <td>3054100</td>\n",
       "      <td>500</td>\n",
       "      <td>3060100</td>\n",
       "      <td>300</td>\n",
       "      <td>57600000</td>\n",
       "      <td>3057050.0</td>\n",
       "      <td>963</td>\n",
       "    </tr>\n",
       "  </tbody>\n",
       "</table>\n",
       "<p>5 rows × 84 columns</p>\n",
       "</div>"
      ],
      "text/plain": [
       "        Unnamed: 0      BP1  BQ1      AP1  AQ1      BP2  BQ2      AP2  AQ2  \\\n",
       "233995      233995  3057000  100  3057100  863  3056400  100  3057200  400   \n",
       "233996      233996  3057000  100  3057100  863  3056400  100  3057200  400   \n",
       "233997      233997  3057000  100  3057100  863  3056400  100  3057200  400   \n",
       "233998      233998  3057000  100  3057100  863  3056400  100  3057200  400   \n",
       "233999      233999  3057000  100  3057100  863  3056400  100  3057200  400   \n",
       "\n",
       "            BP3  ...  BQ19     AP19  AQ19     BP20  BQ20     AP20  AQ20  \\\n",
       "233995  3056200  ...   160  3060000    50  3053800   100  3060100   300   \n",
       "233996  3056200  ...   500  3060000    50  3054000   160  3060100   300   \n",
       "233997  3056200  ...   500  3060000    50  3054000   160  3060100   300   \n",
       "233998  3056200  ...   500  3060000    50  3054000   160  3060100   300   \n",
       "233999  3056300  ...   400  3060000    50  3054100   500  3060100   300   \n",
       "\n",
       "        timestamp         TP   TQ  \n",
       "233995   57599600  3057050.0  963  \n",
       "233996   57599700  3057050.0  963  \n",
       "233997   57599800  3057050.0  963  \n",
       "233998   57599900  3057050.0  963  \n",
       "233999   57600000  3057050.0  963  \n",
       "\n",
       "[5 rows x 84 columns]"
      ]
     },
     "execution_count": 13,
     "metadata": {},
     "output_type": "execute_result"
    }
   ],
   "source": [
    "lf_df.tail()"
   ]
  },
  {
   "cell_type": "code",
   "execution_count": 14,
   "metadata": {},
   "outputs": [
    {
     "name": "stdout",
     "output_type": "stream",
     "text": [
      "469984\n",
      "469984\n",
      "405283.0 records with = (same)\n",
      "30176.0 records with < (plus profit) \n",
      "34525.0 records with > (loss)\n",
      "x shape: (469984, 10)\n",
      "y shape: (469984, 3)\n"
     ]
    }
   ],
   "source": [
    "# make features from dataset\n",
    "# input shape (batch_size, window_size, n_features)\n",
    "# ouput shape (batch_size, n_classes)\n",
    "\n",
    "# if trade price[current+5] = trade price[current] ... 0\n",
    "#    trade price[current+5] < trade price[current] ... 1\n",
    "#    trade price[current+5] > trade price[current] ... 2\n",
    "data = data_prep.get_test_data(window_size=10, predict_step=2, filename=FILENAME)"
   ]
  },
  {
   "cell_type": "code",
   "execution_count": 8,
   "metadata": {},
   "outputs": [
    {
     "name": "stdout",
     "output_type": "stream",
     "text": [
      "(10, 40)\n"
     ]
    }
   ],
   "source": [
    "print(data.x.shape[1:])"
   ]
  },
  {
   "cell_type": "code",
   "execution_count": 7,
   "metadata": {},
   "outputs": [
    {
     "name": "stdout",
     "output_type": "stream",
     "text": [
      "Build model...\n",
      "Compile model.   ..\n",
      "TRAIN\n",
      "Train...\n",
      "before fit\n",
      "WARNING:tensorflow:From C:\\Users\\rohit\\Anaconda3\\lib\\site-packages\\tensorflow\\python\\ops\\math_grad.py:1250: add_dispatch_support.<locals>.wrapper (from tensorflow.python.ops.array_ops) is deprecated and will be removed in a future version.\n",
      "Instructions for updating:\n",
      "Use tf.where in 2.0, which has the same broadcast rule as np.where\n",
      "Train on 1485 samples, validate on 496 samples\n",
      "Epoch 1/2\n",
      "1485/1485 [==============================] - 2s 1ms/step - loss: 0.9955 - acc: 0.5185 - val_loss: 0.7261 - val_acc: 0.7823\n",
      "\n",
      "Epoch 00001: val_acc improved from -inf to 0.78226, saving model to ./model/improvement-01-0.78.hdf5\n",
      "Epoch 2/2\n",
      "1485/1485 [==============================] - 0s 109us/step - loss: 0.5644 - acc: 0.8512 - val_loss: 0.7436 - val_acc: 0.7823\n",
      "\n",
      "Epoch 00002: val_acc did not improve from 0.78226\n",
      "EACH : class 0: 1.0, class 1: 0.0, class 2: 0.0\n",
      "PREDICTED: class 0: 1652, class 1: 0, class 2: 0\n",
      "ACTUAL: class 0: 1652, class 1: 131, class 2: 198\n",
      "ERROR RATE:  0.16607773851590105\n",
      "TEST\n",
      "EACH : class 0: 1.0, class 1: 0.0, class 2: 0.0\n",
      "PREDICTED: class 0: 1652, class 1: 0, class 2: 0\n",
      "ACTUAL: class 0: 1652, class 1: 131, class 2: 198\n",
      "ERROR RATE:  0.16607773851590105\n"
     ]
    },
    {
     "data": {
      "text/plain": [
       "0.16607773851590105"
      ]
     },
     "execution_count": 7,
     "metadata": {},
     "output_type": "execute_result"
    }
   ],
   "source": [
    "from nn import NeuralNetwork\n",
    "from rnn import RNN\n",
    "\n",
    "n_cross_validation = 3\n",
    "\n",
    "# input_shape <- (timestep, n_features)\n",
    "# output_shape <- n_classes\n",
    "nn = NeuralNetwork(RNN(input_shape=data.x.shape[1:], output_dim=data.y.shape[1]), class_weight= {0:1., 1:1., 2:1.})\n",
    "\n",
    "print(\"TRAIN\")\n",
    "nn.train(data)\n",
    "\n",
    "print(\"TEST\")\n",
    "nn.test(data)\n",
    "\n",
    "#print(\"TRAIN WITH CROSS-VALIDATION\")\n",
    "#nn.run_with_cross_validation(data, n_cross_validation)"
   ]
  },
  {
   "cell_type": "code",
   "execution_count": null,
   "metadata": {},
   "outputs": [],
   "source": []
  }
 ],
 "metadata": {
  "kernelspec": {
   "display_name": "Python 3",
   "language": "python",
   "name": "python3"
  },
  "language_info": {
   "codemirror_mode": {
    "name": "ipython",
    "version": 3
   },
   "file_extension": ".py",
   "mimetype": "text/x-python",
   "name": "python",
   "nbconvert_exporter": "python",
   "pygments_lexer": "ipython3",
   "version": "3.7.3"
  }
 },
 "nbformat": 4,
 "nbformat_minor": 1
}
